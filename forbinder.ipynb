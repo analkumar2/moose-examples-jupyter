{
 "cells": [
  {
   "cell_type": "code",
   "execution_count": null,
   "id": "41a18a13",
   "metadata": {},
   "outputs": [],
   "source": [
    "# import sys\n",
    "# print(sys.version[:3])\n",
    "# if sys.version[:3] == '3.6':\n",
    "#     !python3 -m pip install pymoose-3.3.0.dev20220616-cp36-cp36m-manylinux_2_24_x86_64.whl\n",
    "# elif sys.version[:3] == '3.7':\n",
    "#     !python3 -m pip install pymoose-3.3.0.dev20220616-cp37-cp37m-manylinux_2_24_x86_64.whl\n",
    "# elif sys.version[:3] == '3.8':\n",
    "#     !python3 -m pip install pymoose-3.3.0.dev20220616-cp38-cp38-manylinux_2_24_x86_64.whl\n",
    "# !python3 -m pip install pymoose-4.0.0.dev20220620-cp37-cp37m-manylinux_2_12_x86_64.manylinux2010_x86_64.whl\n",
    "!pip install jupyterlab-vpython\n",
    "!pip install vpython"
   ]
  },
  {
   "cell_type": "code",
   "execution_count": null,
   "id": "28c3887b",
   "metadata": {},
   "outputs": [],
   "source": [
    "import moose\n",
    "import rdesigneur as rd\n",
    "from vpython import *\n",
    "scene = canvas()\n",
    "# scene.forward = vec(0,-.3,-1)\n",
    "# moose.delete('/model')\n",
    "rdes = rd.rdesigneur(\n",
    "    # cellProto syntax: ['somaProto', 'name', dia, length]\n",
    "    cellProto = [['somaProto', 'soma', 20e-6, 200e-6]],\n",
    "    chanProto = [['make_HH_Na()', 'Na'], ['make_HH_K()', 'K']],\n",
    "    chanDistrib = [\n",
    "        ['Na', 'soma', 'Gbar', '1200' ],\n",
    "        ['K', 'soma', 'Gbar', '360' ]],\n",
    "    stimList = [['soma', '1', '.', 'inject', '(t>0.01 && t<0.05) * 1e-9' ]],\n",
    "    plotList = [['soma', '1', '.', 'Vm', 'Membrane potential']],\n",
    "    moogList = [['#', '1', '.', 'Vm', 'Vm (mV)']]\n",
    ")\n",
    "\n",
    "rdes.buildModel()\n",
    "soma = moose.element( '/model/elec/soma' )\n",
    "print( 'Soma dia = {}, length = {}'.format( soma.diameter, soma.length ) )\n",
    "moose.reinit()\n",
    "\n",
    "rdes.displayMoogli( 0.0005, 0.06, 0.0 )"
   ]
  },
  {
   "cell_type": "code",
   "execution_count": 1,
   "id": "1d52a149",
   "metadata": {},
   "outputs": [
    {
     "data": {
      "text/html": [
       "<div id=\"glowscript\" class=\"glowscript\"></div>"
      ],
      "text/plain": [
       "<IPython.core.display.HTML object>"
      ]
     },
     "metadata": {},
     "output_type": "display_data"
    },
    {
     "data": {
      "application/javascript": [
       "if (typeof Jupyter !== \"undefined\") { window.__context = { glowscript_container: $(\"#glowscript\").removeAttr(\"id\")};}else{ element.textContent = ' ';}"
      ],
      "text/plain": [
       "<IPython.core.display.Javascript object>"
      ]
     },
     "metadata": {},
     "output_type": "display_data"
    }
   ],
   "source": [
    "from vpython import *"
   ]
  },
  {
   "cell_type": "code",
   "execution_count": 2,
   "id": "d79c2b4d",
   "metadata": {},
   "outputs": [
    {
     "name": "stdout",
     "output_type": "stream",
     "text": [
      "52523\n"
     ]
    },
    {
     "data": {
      "application/javascript": [
       "if (typeof Jupyter !== \"undefined\") {require.undef(\"nbextensions/vpython_libraries/glow.min\");}else{element.textContent = ' ';}"
      ],
      "text/plain": [
       "<IPython.core.display.Javascript object>"
      ]
     },
     "metadata": {},
     "output_type": "display_data"
    },
    {
     "data": {
      "application/javascript": [
       "if (typeof Jupyter !== \"undefined\") {require.undef(\"nbextensions/vpython_libraries/glowcomm\");}else{element.textContent = ' ';}"
      ],
      "text/plain": [
       "<IPython.core.display.Javascript object>"
      ]
     },
     "metadata": {},
     "output_type": "display_data"
    },
    {
     "data": {
      "application/javascript": [
       "if (typeof Jupyter !== \"undefined\") {require.undef(\"nbextensions/vpython_libraries/jquery-ui.custom.min\");}else{element.textContent = ' ';}"
      ],
      "text/plain": [
       "<IPython.core.display.Javascript object>"
      ]
     },
     "metadata": {},
     "output_type": "display_data"
    },
    {
     "data": {
      "application/javascript": [
       "if (typeof Jupyter !== \"undefined\") {require([\"nbextensions/vpython_libraries/glow.min\"], function(){console.log(\"GLOW LOADED\");});}else{element.textContent = ' ';}"
      ],
      "text/plain": [
       "<IPython.core.display.Javascript object>"
      ]
     },
     "metadata": {},
     "output_type": "display_data"
    },
    {
     "data": {
      "application/javascript": [
       "if (typeof Jupyter !== \"undefined\") {require([\"nbextensions/vpython_libraries/glowcomm\"], function(){console.log(\"GLOWCOMM LOADED\");});}else{element.textContent = ' ';}"
      ],
      "text/plain": [
       "<IPython.core.display.Javascript object>"
      ]
     },
     "metadata": {},
     "output_type": "display_data"
    },
    {
     "data": {
      "application/javascript": [
       "if (typeof Jupyter !== \"undefined\") {require([\"nbextensions/vpython_libraries/jquery-ui.custom.min\"], function(){console.log(\"JQUERY LOADED\");});}else{element.textContent = ' ';}"
      ],
      "text/plain": [
       "<IPython.core.display.Javascript object>"
      ]
     },
     "metadata": {},
     "output_type": "display_data"
    },
    {
     "name": "stdout",
     "output_type": "stream",
     "text": [
      "<tornado.web.Application object at 0x7f65a659f2e0>\n",
      "<tornado.httpserver.HTTPServer object at 0x7f65a659f6a0>\n"
     ]
    }
   ],
   "source": [
    "sphere()"
   ]
  },
  {
   "cell_type": "code",
   "execution_count": null,
   "id": "1685c177",
   "metadata": {},
   "outputs": [],
   "source": [
    "import jupyterlab_vpython"
   ]
  },
  {
   "cell_type": "code",
   "execution_count": null,
   "id": "336aa658",
   "metadata": {},
   "outputs": [],
   "source": [
    "jupyterlab_vpython.__file__"
   ]
  },
  {
   "cell_type": "code",
   "execution_count": null,
   "id": "26180d77",
   "metadata": {},
   "outputs": [],
   "source": [
    "get_ipython().__class__.__name__"
   ]
  },
  {
   "cell_type": "code",
   "execution_count": 4,
   "id": "12b791d9",
   "metadata": {},
   "outputs": [
    {
     "name": "stdout",
     "output_type": "stream",
     "text": [
      "/home/analkumar2/.local/share/jupyter/lab/static\n"
     ]
    }
   ],
   "source": [
    "import jupyterlab\n",
    "import jupyterlab.commands\n",
    "from os.path import join\n",
    "labextensions_dir = join(jupyterlab.commands.get_app_dir(), u'static')\n",
    "print(labextensions_dir)"
   ]
  },
  {
   "cell_type": "code",
   "execution_count": 6,
   "id": "33af3652",
   "metadata": {},
   "outputs": [
    {
     "name": "stdout",
     "output_type": "stream",
     "text": [
      "06f4d00923ea24697df5df0b92984175991d8bd25776a02d531bb401e393ec42.ttf\r\n",
      "1033.890eeae47460e241b1e9.js\r\n",
      "1036.b407e23ec5843f2b574d.js\r\n",
      "1036.b407e23ec5843f2b574d.js.LICENSE.txt\r\n",
      "1044.4e54e3e338cfaccdfb46.js\r\n",
      "1057.a0608544097dd22a589e.js\r\n",
      "1142.074d125bb59f5a332666.js\r\n",
      "1249.cfa1d89695d227ee04f7.js\r\n",
      "126.1e2fb998804b27c72a3e.js\r\n",
      "1358.9ab4f57e8227ce75f427.js\r\n",
      "1397.4b53e533e7ca4d3f06fe.js\r\n",
      "14c9db4ff87fde08f67b0a69dd594bab6d87174812a0dbd34c59833bfed8cc0e.woff\r\n",
      "1842.1846f224482b066652bf.js\r\n",
      "1944.9bb345a40325c23313e9.js\r\n",
      "1944.9bb345a40325c23313e9.js.LICENSE.txt\r\n",
      "198.ebf955f77b5c9807f163.js\r\n",
      "2040.6489997c35a5d7b0b100.js\r\n",
      "2249.0cc057d5b7da618aa4e0.js\r\n",
      "2326849b6c3dfa217a0e9ecaec9553c910a4e2987c87315c85073d2b95a484f3.svg\r\n",
      "2349.91555cd2ef72c84e9253.js\r\n",
      "2353.baeba73a2e9f3d9e75d2.js\r\n",
      "2356.f97dd8093f97f156efe4.js\r\n",
      "2585.4d374708a4df1d35065d.js\r\n",
      "2719.e5ff90bc0606db87408f.js\r\n",
      "3029.8636761a48c8422ce37f.js\r\n",
      "3087.06efd084edba2bea6ea1.js\r\n",
      "3122.b1fda55c421da97a00a3.js\r\n",
      "3236.4fabf963498daeeb9624.js\r\n",
      "3387.bb8976de803b341fe7a3.js\r\n",
      "3443.868b4f89289beb97adec.js\r\n",
      "3496.ecb0e7fcc54191234ae6.js\r\n",
      "3502.c915d993b864739407e3.js\r\n",
      "3531.0bacde3facdc0c46766c.js\r\n",
      "3532.5dff37bee3e7bf1673b8.js\r\n",
      "3664.cfb68e6cb3654849310c.js\r\n",
      "3791.6adeeacb6143a6599115.js\r\n",
      "3935.4159b022aa6d82e44127.js\r\n",
      "3935.4159b022aa6d82e44127.js.LICENSE.txt\r\n",
      "3992.6587b8bb22d3b162cc6b.js\r\n",
      "3d06af1f31cd83ace7a265a014b8fb5dee15770ecac8f7a55555190e627e03c2.ttf\r\n",
      "406.6f87c9a21bbaa5f39fc4.js\r\n",
      "407a9723fc717c94e287496080d773e18e29c3cac49e2630172343c65c0864a8.eot\r\n",
      "4151.fd7ca59b64f0adc97032.js\r\n",
      "4155.784ca1752696680bf373.js\r\n",
      "43c072c16c9ee6d67acdfa6c6d6685ff1e74eb4237b7cc3c1348ab1c108b26af.woff2\r\n",
      "4402.d24b4a44244e256d0126.js\r\n",
      "4429.c4f083ef6b6e29345fd4.js\r\n",
      "45.91c59b0e1dca32f01373.js\r\n",
      "4570.53adcb6f69939da383ff.js\r\n",
      "4621.f542b785352c9afa6fef.js\r\n",
      "4631.96a143e70f005fef7b59.js\r\n",
      "466.239a0c009f33f1cb7cab.js\r\n",
      "4894.f5e3a48d18905b75d07f.js\r\n",
      "501.d77919e38ba77753c7f8.js\r\n",
      "5065.49dd76cb64fd444f785f.js\r\n",
      "5096.96faf5ddac346a9ad9c3.js\r\n",
      "5096.96faf5ddac346a9ad9c3.js.LICENSE.txt\r\n",
      "5223.0006e6e211b7c197b9f1.js\r\n",
      "5289.6c67522c6a1c32fc2ea2.js\r\n",
      "5383.d630abf49f5cb82bb76f.js\r\n",
      "5493.c4714ef77ba6a59aec45.js\r\n",
      "5493.c4714ef77ba6a59aec45.js.LICENSE.txt\r\n",
      "5505.d108d38d683afca0e4ed.js\r\n",
      "5557.625f5943a166b494ee38.js\r\n",
      "5619.b1928648a190b38e627a.js\r\n",
      "6005.cda1ecd972909c2a0250.js\r\n",
      "6064.1a4a55a09511d4907870.js\r\n",
      "6064.1a4a55a09511d4907870.js.LICENSE.txt\r\n",
      "6080.39703b8cc7bd284ce1bd.js\r\n",
      "6218.63b338a58c855634089e.js\r\n",
      "6504.f578fea4ca18a937babd.js\r\n",
      "6550.f5dbb748ddae3ef4b27e.js\r\n",
      "6598.e2d4d064ef6bca780c2c.js\r\n",
      "6700.c96344a466d1896657bf.js\r\n",
      "6777.1b7dcbf5a42c2daf11b8.js\r\n",
      "679b5a5216bbdf913cc22d6ae44778c1ef975ee387a6c4c5de87e75d19a22232.svg\r\n",
      "6952.1bd5bcfeb0d87e61efcb.js\r\n",
      "6962.6d7125f759d926dcf34f.js\r\n",
      "6975.e0560614fd629195c9bf.js\r\n",
      "6989.75bf0da94e660a6c26f8.js\r\n",
      "7034.fce307da76771c0ef0c8.js\r\n",
      "7050.fc2b565767a93966c20e.js\r\n",
      "714.d38baae8faccca175d4b.js\r\n",
      "7289.c749cf355edec3e37aa8.js\r\n",
      "7294.f71c2889fedcd71bd1ee.js\r\n",
      "7294.f71c2889fedcd71bd1ee.js.LICENSE.txt\r\n",
      "7300.26360c57b8bd81344bd5.js\r\n",
      "7454.5859b3e9803de4da9c05.js\r\n",
      "7463.c34847707aeb55f90a82.js\r\n",
      "74edc18b67c487e32f181719fdb347e2e77020744651f446e9acd7bd6821e2e7.woff\r\n",
      "75a761159ae266c5332a4f266e07a5543712ffb76ee0260b07782195c04dc364.eot\r\n",
      "7717.2a6e6bb4e5f6b92e9798.js\r\n",
      "7730.7e3a9fb140d2d55a51fc.js\r\n",
      "7755.d506a1d9dadf30b1e490.js\r\n",
      "7788.5e16fdcc197e245776fd.js\r\n",
      "7796.53c158c42e7f9697953b.js\r\n",
      "7900.86dcbbbfb1a3d4f98375.js\r\n",
      "8012.e4c8f67dc497d26c16fc.js\r\n",
      "8059.6011120485fc3c4868d4.js\r\n",
      "807.96166378e2efe232d81e.js\r\n",
      "807.96166378e2efe232d81e.js.LICENSE.txt\r\n",
      "8102.7f1644c3be420fb40db9.js\r\n",
      "8428.dd5a93f02f55af0d3d8c.js\r\n",
      "8523.9b232c15e4eb5bc08a37.js\r\n",
      "8580.974138f8b6ddb72035f9.js\r\n",
      "8657.bf693afb7646976b9a51.js\r\n",
      "870.e515a8a325f5ddb19079.js\r\n",
      "8708.35479b2d01be1e86804a.js\r\n",
      "8819.743ff7148bbdf35c7bbb.js\r\n",
      "8834.7621cb792c80bfa66e05.js\r\n",
      "8843.35ec0f0b1f61c25e0401.js\r\n",
      "8afc6e5e842baab16010c2ce6fcf48ec4ded8e1579a37c1f1bc027e120d04951.woff2\r\n",
      "900.6a1241c0269d5df615c8.js\r\n",
      "901.2ec3367a81663f96cc4b.js\r\n",
      "9039.5f28fec36b1eba3e4a52.js\r\n",
      "9109.1b114e9c83e36c6560df.js\r\n",
      "911.0c08f040896753efc653.js\r\n",
      "911.0c08f040896753efc653.js.LICENSE.txt\r\n",
      "9316.c4abfd78d98bb182cd2f.js\r\n",
      "9473.c9ce89a68fc11c32e958.js\r\n",
      "9473.c9ce89a68fc11c32e958.js.LICENSE.txt\r\n",
      "96.c281b119ab350d7dd3de.js\r\n",
      "9845.8b6c837a5ff754554b39.js\r\n",
      "9866.5db2f5cd62fb6e231305.js\r\n",
      "aff76e5c986f295d4bc6f8142a78e2a31888b101c2d025db89f79c75f64fd90b.woff\r\n",
      "bootstrap.js\r\n",
      "build_log.json\r\n",
      "c651b8a67d3193206f622c3c3b0fbca4a2f2727108c4212b52c1e2a2e84c9b31.ttf\r\n",
      "cf83ffb8cf0023bd439dfdd5d02f1954b6ee027e85897d6cfc5f90bbca9ec1d2.eot\r\n",
      "d0b4256abed72481585662971262eabee345c19f837af00d7ce24239d3b40eef.woff2\r\n",
      "fa498fb2596a5235c5c86d7b68a7fbe76e9855c01af4b0e5ab41c41047c648e0.svg\r\n",
      "index.html\r\n",
      "index.out.js\r\n",
      "jlab_core.fc632a0f38747f007842.js\r\n",
      "jlab_core.fc632a0f38747f007842.js.LICENSE.txt\r\n",
      "main.86df35f40da452ca6f22.js\r\n",
      "package.json\r\n",
      "style.js\r\n",
      "third-party-licenses.json\r\n"
     ]
    }
   ],
   "source": [
    "!ls /home/analkumar2/.local/share/jupyter/lab/static"
   ]
  },
  {
   "cell_type": "code",
   "execution_count": null,
   "id": "56fd3ab7",
   "metadata": {},
   "outputs": [],
   "source": []
  }
 ],
 "metadata": {
  "kernelspec": {
   "display_name": "Python 3 (ipykernel)",
   "language": "python",
   "name": "python3"
  },
  "language_info": {
   "codemirror_mode": {
    "name": "ipython",
    "version": 3
   },
   "file_extension": ".py",
   "mimetype": "text/x-python",
   "name": "python",
   "nbconvert_exporter": "python",
   "pygments_lexer": "ipython3",
   "version": "3.8.10"
  }
 },
 "nbformat": 4,
 "nbformat_minor": 5
}
