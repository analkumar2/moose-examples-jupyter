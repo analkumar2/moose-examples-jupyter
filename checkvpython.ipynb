{
 "cells": [
  {
   "cell_type": "code",
   "execution_count": 1,
   "id": "25b4afc4",
   "metadata": {},
   "outputs": [
    {
     "name": "stdout",
     "output_type": "stream",
     "text": [
      "/usr/lib/python3/dist-packages/secretstorage/dhcrypto.py:15: CryptographyDeprecationWarning: int_from_bytes is deprecated, use int.from_bytes instead\n",
      "  from cryptography.utils import int_from_bytes\n",
      "/usr/lib/python3/dist-packages/secretstorage/util.py:19: CryptographyDeprecationWarning: int_from_bytes is deprecated, use int.from_bytes instead\n",
      "  from cryptography.utils import int_from_bytes\n",
      "/home/analkumar2/.local/lib/python3.8/site-packages/cryptography/hazmat/backends/openssl/x509.py:14: CryptographyDeprecationWarning: This version of cryptography contains a temporary pyOpenSSL fallback path. Upgrade pyOpenSSL now.\n",
      "  warnings.warn(\n",
      "Requirement already up-to-date: vpython in /home/analkumar2/.local/lib/python3.8/site-packages (7.6.4rc1)\n",
      "Requirement already satisfied, skipping upgrade: jupyter in /home/analkumar2/.local/lib/python3.8/site-packages (from vpython) (1.0.0)\n",
      "Requirement already satisfied, skipping upgrade: jupyter-server-proxy in /home/analkumar2/.local/lib/python3.8/site-packages (from vpython) (3.2.1)\n",
      "Requirement already satisfied, skipping upgrade: numpy in /home/analkumar2/.local/lib/python3.8/site-packages (from vpython) (1.22.1)\n",
      "Requirement already satisfied, skipping upgrade: ipykernel in /home/analkumar2/.local/lib/python3.8/site-packages (from vpython) (6.9.2)\n",
      "Requirement already satisfied, skipping upgrade: autobahn<=21.11.1,>=18.8.2 in /home/analkumar2/.local/lib/python3.8/site-packages (from vpython) (21.11.1)\n",
      "Requirement already satisfied, skipping upgrade: notebook in /home/analkumar2/.local/lib/python3.8/site-packages (from jupyter->vpython) (6.4.10)\n",
      "Requirement already satisfied, skipping upgrade: qtconsole in /home/analkumar2/.local/lib/python3.8/site-packages (from jupyter->vpython) (5.2.2)\n",
      "Requirement already satisfied, skipping upgrade: jupyter-console in /home/analkumar2/.local/lib/python3.8/site-packages (from jupyter->vpython) (6.4.3)\n",
      "Requirement already satisfied, skipping upgrade: nbconvert in /home/analkumar2/.local/lib/python3.8/site-packages (from jupyter->vpython) (6.4.4)\n",
      "Requirement already satisfied, skipping upgrade: ipywidgets in /home/analkumar2/.local/lib/python3.8/site-packages (from jupyter->vpython) (7.7.0)\n",
      "Requirement already satisfied, skipping upgrade: aiohttp in /home/analkumar2/.local/lib/python3.8/site-packages (from jupyter-server-proxy->vpython) (3.7.4)\n",
      "Requirement already satisfied, skipping upgrade: jupyter-server>=1.0 in /home/analkumar2/.local/lib/python3.8/site-packages (from jupyter-server-proxy->vpython) (1.17.1)\n",
      "Requirement already satisfied, skipping upgrade: simpervisor>=0.4 in /home/analkumar2/.local/lib/python3.8/site-packages (from jupyter-server-proxy->vpython) (0.4)\n",
      "Requirement already satisfied, skipping upgrade: debugpy<2.0,>=1.0.0 in /home/analkumar2/.local/lib/python3.8/site-packages (from ipykernel->vpython) (1.5.1)\n",
      "Requirement already satisfied, skipping upgrade: ipython>=7.23.1 in /home/analkumar2/.local/lib/python3.8/site-packages (from ipykernel->vpython) (8.1.1)\n",
      "Requirement already satisfied, skipping upgrade: traitlets<6.0,>=5.1.0 in /home/analkumar2/.local/lib/python3.8/site-packages (from ipykernel->vpython) (5.1.1)\n",
      "Requirement already satisfied, skipping upgrade: jupyter-client<8.0 in /home/analkumar2/.local/lib/python3.8/site-packages (from ipykernel->vpython) (7.1.2)\n",
      "Requirement already satisfied, skipping upgrade: tornado<7.0,>=4.2 in /home/analkumar2/.local/lib/python3.8/site-packages (from ipykernel->vpython) (6.1)\n",
      "Requirement already satisfied, skipping upgrade: matplotlib-inline<0.2.0,>=0.1.0 in /home/analkumar2/.local/lib/python3.8/site-packages (from ipykernel->vpython) (0.1.3)\n",
      "Requirement already satisfied, skipping upgrade: psutil in /home/analkumar2/.local/lib/python3.8/site-packages (from ipykernel->vpython) (5.9.0)\n",
      "Requirement already satisfied, skipping upgrade: nest-asyncio in /home/analkumar2/.local/lib/python3.8/site-packages (from ipykernel->vpython) (1.5.4)\n",
      "Requirement already satisfied, skipping upgrade: txaio>=21.2.1 in /home/analkumar2/.local/lib/python3.8/site-packages (from autobahn<=21.11.1,>=18.8.2->vpython) (22.2.1)\n",
      "Requirement already satisfied, skipping upgrade: cryptography>=3.4.6 in /home/analkumar2/.local/lib/python3.8/site-packages (from autobahn<=21.11.1,>=18.8.2->vpython) (36.0.2)\n",
      "Requirement already satisfied, skipping upgrade: hyperlink>=21.0.0 in /home/analkumar2/.local/lib/python3.8/site-packages (from autobahn<=21.11.1,>=18.8.2->vpython) (21.0.0)\n",
      "Requirement already satisfied, skipping upgrade: setuptools in /home/analkumar2/.local/lib/python3.8/site-packages (from autobahn<=21.11.1,>=18.8.2->vpython) (62.6.0)\n",
      "Requirement already satisfied, skipping upgrade: jinja2 in /usr/lib/python3/dist-packages (from notebook->jupyter->vpython) (2.10.1)\n",
      "Requirement already satisfied, skipping upgrade: pyzmq>=17 in /home/analkumar2/.local/lib/python3.8/site-packages (from notebook->jupyter->vpython) (22.3.0)\n",
      "Requirement already satisfied, skipping upgrade: argon2-cffi in /home/analkumar2/.local/lib/python3.8/site-packages (from notebook->jupyter->vpython) (21.3.0)\n",
      "Requirement already satisfied, skipping upgrade: jupyter-core>=4.6.1 in /home/analkumar2/.local/lib/python3.8/site-packages (from notebook->jupyter->vpython) (4.9.2)\n",
      "Requirement already satisfied, skipping upgrade: ipython-genutils in /home/analkumar2/.local/lib/python3.8/site-packages (from notebook->jupyter->vpython) (0.2.0)\n",
      "Requirement already satisfied, skipping upgrade: nbformat in /home/analkumar2/.local/lib/python3.8/site-packages (from notebook->jupyter->vpython) (5.2.0)\n",
      "Requirement already satisfied, skipping upgrade: Send2Trash>=1.8.0 in /home/analkumar2/.local/lib/python3.8/site-packages (from notebook->jupyter->vpython) (1.8.0)\n",
      "Requirement already satisfied, skipping upgrade: terminado>=0.8.3 in /home/analkumar2/.local/lib/python3.8/site-packages (from notebook->jupyter->vpython) (0.13.3)\n",
      "Requirement already satisfied, skipping upgrade: prometheus-client in /home/analkumar2/.local/lib/python3.8/site-packages (from notebook->jupyter->vpython) (0.13.1)\n",
      "Requirement already satisfied, skipping upgrade: pygments in /home/analkumar2/.local/lib/python3.8/site-packages (from qtconsole->jupyter->vpython) (2.11.2)\n",
      "Requirement already satisfied, skipping upgrade: qtpy in /home/analkumar2/.local/lib/python3.8/site-packages (from qtconsole->jupyter->vpython) (2.0.1)\n",
      "Requirement already satisfied, skipping upgrade: prompt-toolkit!=3.0.0,!=3.0.1,<3.1.0,>=2.0.0 in /home/analkumar2/.local/lib/python3.8/site-packages (from jupyter-console->jupyter->vpython) (3.0.28)\n",
      "Requirement already satisfied, skipping upgrade: mistune<2,>=0.8.1 in /home/analkumar2/.local/lib/python3.8/site-packages (from nbconvert->jupyter->vpython) (0.8.4)\n",
      "Requirement already satisfied, skipping upgrade: jupyterlab-pygments in /home/analkumar2/.local/lib/python3.8/site-packages (from nbconvert->jupyter->vpython) (0.1.2)\n",
      "Requirement already satisfied, skipping upgrade: entrypoints>=0.2.2 in /usr/lib/python3/dist-packages (from nbconvert->jupyter->vpython) (0.3)\n",
      "Requirement already satisfied, skipping upgrade: bleach in /home/analkumar2/.local/lib/python3.8/site-packages (from nbconvert->jupyter->vpython) (4.1.0)\n",
      "Requirement already satisfied, skipping upgrade: pandocfilters>=1.4.1 in /home/analkumar2/.local/lib/python3.8/site-packages (from nbconvert->jupyter->vpython) (1.5.0)\n",
      "Requirement already satisfied, skipping upgrade: testpath in /home/analkumar2/.local/lib/python3.8/site-packages (from nbconvert->jupyter->vpython) (0.6.0)\n",
      "Requirement already satisfied, skipping upgrade: defusedxml in /home/analkumar2/.local/lib/python3.8/site-packages (from nbconvert->jupyter->vpython) (0.7.1)\n",
      "Requirement already satisfied, skipping upgrade: beautifulsoup4 in /usr/lib/python3/dist-packages (from nbconvert->jupyter->vpython) (4.8.2)\n",
      "Requirement already satisfied, skipping upgrade: nbclient<0.6.0,>=0.5.0 in /home/analkumar2/.local/lib/python3.8/site-packages (from nbconvert->jupyter->vpython) (0.5.13)\n",
      "Requirement already satisfied, skipping upgrade: widgetsnbextension~=3.6.0 in /home/analkumar2/.local/lib/python3.8/site-packages (from ipywidgets->jupyter->vpython) (3.6.0)\n",
      "Requirement already satisfied, skipping upgrade: jupyterlab-widgets>=1.0.0; python_version >= \"3.6\" in /home/analkumar2/.local/lib/python3.8/site-packages (from ipywidgets->jupyter->vpython) (1.1.0)\n",
      "Requirement already satisfied, skipping upgrade: attrs>=17.3.0 in /usr/lib/python3/dist-packages (from aiohttp->jupyter-server-proxy->vpython) (19.3.0)\n",
      "Requirement already satisfied, skipping upgrade: chardet<4.0,>=2.0 in /usr/lib/python3/dist-packages (from aiohttp->jupyter-server-proxy->vpython) (3.0.4)\n",
      "Requirement already satisfied, skipping upgrade: multidict<7.0,>=4.5 in /home/analkumar2/.local/lib/python3.8/site-packages (from aiohttp->jupyter-server-proxy->vpython) (5.2.0)\n",
      "Requirement already satisfied, skipping upgrade: async-timeout<4.0,>=3.0 in /home/analkumar2/.local/lib/python3.8/site-packages (from aiohttp->jupyter-server-proxy->vpython) (3.0.1)\n",
      "Requirement already satisfied, skipping upgrade: yarl<2.0,>=1.0 in /home/analkumar2/.local/lib/python3.8/site-packages (from aiohttp->jupyter-server-proxy->vpython) (1.7.2)\n"
     ]
    },
    {
     "name": "stdout",
     "output_type": "stream",
     "text": [
      "Requirement already satisfied, skipping upgrade: typing-extensions>=3.6.5 in /home/analkumar2/.local/lib/python3.8/site-packages (from aiohttp->jupyter-server-proxy->vpython) (4.0.1)\n",
      "Requirement already satisfied, skipping upgrade: anyio<4,>=3.1.0 in /home/analkumar2/.local/lib/python3.8/site-packages (from jupyter-server>=1.0->jupyter-server-proxy->vpython) (3.5.0)\n",
      "Requirement already satisfied, skipping upgrade: packaging in /home/analkumar2/.local/lib/python3.8/site-packages (from jupyter-server>=1.0->jupyter-server-proxy->vpython) (21.3)\n",
      "Requirement already satisfied, skipping upgrade: websocket-client in /home/analkumar2/.local/lib/python3.8/site-packages (from jupyter-server>=1.0->jupyter-server-proxy->vpython) (1.3.1)\n",
      "Requirement already satisfied, skipping upgrade: backcall in /home/analkumar2/.local/lib/python3.8/site-packages (from ipython>=7.23.1->ipykernel->vpython) (0.2.0)\n",
      "Requirement already satisfied, skipping upgrade: decorator in /usr/lib/python3/dist-packages (from ipython>=7.23.1->ipykernel->vpython) (4.4.2)\n",
      "Requirement already satisfied, skipping upgrade: jedi>=0.16 in /home/analkumar2/.local/lib/python3.8/site-packages (from ipython>=7.23.1->ipykernel->vpython) (0.18.1)\n",
      "Requirement already satisfied, skipping upgrade: pickleshare in /home/analkumar2/.local/lib/python3.8/site-packages (from ipython>=7.23.1->ipykernel->vpython) (0.7.5)\n",
      "Requirement already satisfied, skipping upgrade: stack-data in /home/analkumar2/.local/lib/python3.8/site-packages (from ipython>=7.23.1->ipykernel->vpython) (0.2.0)\n",
      "Requirement already satisfied, skipping upgrade: pexpect>4.3; sys_platform != \"win32\" in /usr/lib/python3/dist-packages (from ipython>=7.23.1->ipykernel->vpython) (4.6.0)\n",
      "Requirement already satisfied, skipping upgrade: python-dateutil>=2.1 in /home/analkumar2/.local/lib/python3.8/site-packages (from jupyter-client<8.0->ipykernel->vpython) (2.8.2)\n",
      "Requirement already satisfied, skipping upgrade: cffi>=1.12 in /home/analkumar2/.local/lib/python3.8/site-packages (from cryptography>=3.4.6->autobahn<=21.11.1,>=18.8.2->vpython) (1.15.0)\n",
      "Requirement already satisfied, skipping upgrade: idna>=2.5 in /usr/lib/python3/dist-packages (from hyperlink>=21.0.0->autobahn<=21.11.1,>=18.8.2->vpython) (2.8)\n",
      "Requirement already satisfied, skipping upgrade: argon2-cffi-bindings in /home/analkumar2/.local/lib/python3.8/site-packages (from argon2-cffi->notebook->jupyter->vpython) (21.2.0)\n",
      "Requirement already satisfied, skipping upgrade: jsonschema!=2.5.0,>=2.4 in /usr/lib/python3/dist-packages (from nbformat->notebook->jupyter->vpython) (3.2.0)\n",
      "Requirement already satisfied, skipping upgrade: ptyprocess; os_name != \"nt\" in /home/analkumar2/.local/lib/python3.8/site-packages (from terminado>=0.8.3->notebook->jupyter->vpython) (0.7.0)\n",
      "Requirement already satisfied, skipping upgrade: wcwidth in /usr/lib/python3/dist-packages (from prompt-toolkit!=3.0.0,!=3.0.1,<3.1.0,>=2.0.0->jupyter-console->jupyter->vpython) (0.1.8)\n",
      "Requirement already satisfied, skipping upgrade: six>=1.9.0 in /usr/lib/python3/dist-packages (from bleach->nbconvert->jupyter->vpython) (1.14.0)\n",
      "Requirement already satisfied, skipping upgrade: webencodings in /usr/lib/python3/dist-packages (from bleach->nbconvert->jupyter->vpython) (0.5.1)\n",
      "Requirement already satisfied, skipping upgrade: sniffio>=1.1 in /home/analkumar2/.local/lib/python3.8/site-packages (from anyio<4,>=3.1.0->jupyter-server>=1.0->jupyter-server-proxy->vpython) (1.2.0)\n",
      "Requirement already satisfied, skipping upgrade: pyparsing!=3.0.5,>=2.0.2 in /home/analkumar2/.local/lib/python3.8/site-packages (from packaging->jupyter-server>=1.0->jupyter-server-proxy->vpython) (3.0.6)\n",
      "Requirement already satisfied, skipping upgrade: parso<0.9.0,>=0.8.0 in /home/analkumar2/.local/lib/python3.8/site-packages (from jedi>=0.16->ipython>=7.23.1->ipykernel->vpython) (0.8.3)\n",
      "Requirement already satisfied, skipping upgrade: executing in /home/analkumar2/.local/lib/python3.8/site-packages (from stack-data->ipython>=7.23.1->ipykernel->vpython) (0.8.3)\n",
      "Requirement already satisfied, skipping upgrade: asttokens in /home/analkumar2/.local/lib/python3.8/site-packages (from stack-data->ipython>=7.23.1->ipykernel->vpython) (2.0.5)\n",
      "Requirement already satisfied, skipping upgrade: pure-eval in /home/analkumar2/.local/lib/python3.8/site-packages (from stack-data->ipython>=7.23.1->ipykernel->vpython) (0.2.2)\n",
      "Requirement already satisfied, skipping upgrade: pycparser in /home/analkumar2/.local/lib/python3.8/site-packages (from cffi>=1.12->cryptography>=3.4.6->autobahn<=21.11.1,>=18.8.2->vpython) (2.21)\n"
     ]
    }
   ],
   "source": [
    "!pip install vpython --pre --upgrade"
   ]
  },
  {
   "cell_type": "code",
   "execution_count": 2,
   "id": "6c0fde69",
   "metadata": {},
   "outputs": [
    {
     "data": {
      "text/html": [
       "<div id=\"glowscript\" class=\"glowscript\"></div>"
      ],
      "text/plain": [
       "<IPython.core.display.HTML object>"
      ]
     },
     "metadata": {},
     "output_type": "display_data"
    },
    {
     "data": {
      "application/javascript": [
       "if (typeof Jupyter !== \"undefined\") { window.__context = { glowscript_container: $(\"#glowscript\").removeAttr(\"id\")};}else{ element.textContent = ' ';}"
      ],
      "text/plain": [
       "<IPython.core.display.Javascript object>"
      ]
     },
     "metadata": {},
     "output_type": "display_data"
    }
   ],
   "source": [
    "from vpython import *"
   ]
  },
  {
   "cell_type": "code",
   "execution_count": 3,
   "id": "c7f4e24b",
   "metadata": {},
   "outputs": [
    {
     "data": {
      "application/javascript": [
       "if (typeof Jupyter !== \"undefined\") {require.undef(\"nbextensions/vpython_libraries/glow.min\");}else{element.textContent = ' ';}"
      ],
      "text/plain": [
       "<IPython.core.display.Javascript object>"
      ]
     },
     "metadata": {},
     "output_type": "display_data"
    },
    {
     "data": {
      "application/javascript": [
       "if (typeof Jupyter !== \"undefined\") {require.undef(\"nbextensions/vpython_libraries/glowcomm\");}else{element.textContent = ' ';}"
      ],
      "text/plain": [
       "<IPython.core.display.Javascript object>"
      ]
     },
     "metadata": {},
     "output_type": "display_data"
    },
    {
     "data": {
      "application/javascript": [
       "if (typeof Jupyter !== \"undefined\") {require.undef(\"nbextensions/vpython_libraries/jquery-ui.custom.min\");}else{element.textContent = ' ';}"
      ],
      "text/plain": [
       "<IPython.core.display.Javascript object>"
      ]
     },
     "metadata": {},
     "output_type": "display_data"
    },
    {
     "data": {
      "application/javascript": [
       "if (typeof Jupyter !== \"undefined\") {require([\"nbextensions/vpython_libraries/glow.min\"], function(){console.log(\"GLOW LOADED\");});}else{element.textContent = ' ';}"
      ],
      "text/plain": [
       "<IPython.core.display.Javascript object>"
      ]
     },
     "metadata": {},
     "output_type": "display_data"
    },
    {
     "data": {
      "application/javascript": [
       "if (typeof Jupyter !== \"undefined\") {require([\"nbextensions/vpython_libraries/glowcomm\"], function(){console.log(\"GLOWCOMM LOADED\");});}else{element.textContent = ' ';}"
      ],
      "text/plain": [
       "<IPython.core.display.Javascript object>"
      ]
     },
     "metadata": {},
     "output_type": "display_data"
    },
    {
     "data": {
      "application/javascript": [
       "if (typeof Jupyter !== \"undefined\") {require([\"nbextensions/vpython_libraries/jquery-ui.custom.min\"], function(){console.log(\"JQUERY LOADED\");});}else{element.textContent = ' ';}"
      ],
      "text/plain": [
       "<IPython.core.display.Javascript object>"
      ]
     },
     "metadata": {},
     "output_type": "display_data"
    }
   ],
   "source": [
    "sphere()"
   ]
  },
  {
   "cell_type": "code",
   "execution_count": null,
   "id": "920584ce",
   "metadata": {},
   "outputs": [],
   "source": []
  }
 ],
 "metadata": {
  "kernelspec": {
   "display_name": "Python 3 (ipykernel)",
   "language": "python",
   "name": "python3"
  },
  "language_info": {
   "codemirror_mode": {
    "name": "ipython",
    "version": 3
   },
   "file_extension": ".py",
   "mimetype": "text/x-python",
   "name": "python",
   "nbconvert_exporter": "python",
   "pygments_lexer": "ipython3",
   "version": "3.8.10"
  }
 },
 "nbformat": 4,
 "nbformat_minor": 5
}
