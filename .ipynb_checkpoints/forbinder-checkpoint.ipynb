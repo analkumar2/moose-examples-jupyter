{
 "cells": [
  {
   "cell_type": "code",
   "execution_count": 5,
   "id": "41a18a13",
   "metadata": {},
   "outputs": [
    {
     "name": "stdout",
     "output_type": "stream",
     "text": [
      "3.8\n",
      "/usr/lib/python3/dist-packages/secretstorage/dhcrypto.py:15: CryptographyDeprecationWarning: int_from_bytes is deprecated, use int.from_bytes instead\n",
      "  from cryptography.utils import int_from_bytes\n",
      "/usr/lib/python3/dist-packages/secretstorage/util.py:19: CryptographyDeprecationWarning: int_from_bytes is deprecated, use int.from_bytes instead\n",
      "  from cryptography.utils import int_from_bytes\n",
      "\u001b[31mERROR: pymoose-3.3.0.dev20220616-cp38-cp38-manylinux_2_24_x86_64.whl is not a supported wheel on this platform.\u001b[0m\n"
     ]
    }
   ],
   "source": [
    "import sys\n",
    "print(sys.version[:3])\n",
    "if sys.version[:3] == '3.6':\n",
    "    !python3 -m pip install pymoose-3.3.0.dev20220616-cp36-cp36m-manylinux_2_24_x86_64.whl\n",
    "elif sys.version[:3] == '3.7':\n",
    "    !python3 -m pip install pymoose-3.3.0.dev20220616-cp37-cp37m-manylinux_2_24_x86_64.whl\n",
    "elif sys.version[:3] == '3.8':\n",
    "    !python3 -m pip install pymoose-3.3.0.dev20220616-cp38-cp38-manylinux_2_24_x86_64.whl"
   ]
  },
  {
   "cell_type": "code",
   "execution_count": 7,
   "id": "28c3887b",
   "metadata": {},
   "outputs": [
    {
     "name": "stdout",
     "output_type": "stream",
     "text": [
      "/usr/lib/python3/dist-packages/secretstorage/dhcrypto.py:15: CryptographyDeprecationWarning: int_from_bytes is deprecated, use int.from_bytes instead\n",
      "  from cryptography.utils import int_from_bytes\n",
      "/usr/lib/python3/dist-packages/secretstorage/util.py:19: CryptographyDeprecationWarning: int_from_bytes is deprecated, use int.from_bytes instead\n",
      "  from cryptography.utils import int_from_bytes\n",
      "\u001b[31mERROR: pymoose-3.3.0.dev20220616-cp38-cp38-manylinux_2_24_x86_64.whl is not a supported wheel on this platform.\u001b[0m\n"
     ]
    }
   ],
   "source": [
    "import moose\n",
    "import rdesigneur as rd\n",
    "rdes = rd.rdesigneur(\n",
    "    # cellProto syntax: ['somaProto', 'name', dia, length]\n",
    "    cellProto = [['somaProto', 'soma', 20e-6, 200e-6]],\n",
    "    chanProto = [['make_HH_Na()', 'Na'], ['make_HH_K()', 'K']],\n",
    "    chanDistrib = [\n",
    "        ['Na', 'soma', 'Gbar', '1200' ],\n",
    "        ['K', 'soma', 'Gbar', '360' ]],\n",
    "    stimList = [['soma', '1', '.', 'inject', '(t>0.01 && t<0.05) * 1e-9' ]],\n",
    "    plotList = [['soma', '1', '.', 'Vm', 'Membrane potential']],\n",
    "    moogList = [['#', '1', '.', 'Vm', 'Vm (mV)']]\n",
    ")\n",
    "\n",
    "rdes.buildModel()\n",
    "soma = moose.element( '/model/elec/soma' )\n",
    "print( 'Soma dia = {}, length = {}'.format( soma.diameter, soma.length ) )\n",
    "moose.reinit()\n",
    "\n",
    "rdes.displayMoogli( 0.0005, 0.06, 0.0 )"
   ]
  },
  {
   "cell_type": "code",
   "execution_count": null,
   "id": "1d52a149",
   "metadata": {},
   "outputs": [],
   "source": []
  }
 ],
 "metadata": {
  "kernelspec": {
   "display_name": "Python 3 (ipykernel)",
   "language": "python",
   "name": "python3"
  },
  "language_info": {
   "codemirror_mode": {
    "name": "ipython",
    "version": 3
   },
   "file_extension": ".py",
   "mimetype": "text/x-python",
   "name": "python",
   "nbconvert_exporter": "python",
   "pygments_lexer": "ipython3",
   "version": "3.8.10"
  }
 },
 "nbformat": 4,
 "nbformat_minor": 5
}
